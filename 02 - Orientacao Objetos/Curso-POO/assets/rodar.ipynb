{
 "cells": [
  {
   "cell_type": "code",
   "execution_count": null,
   "metadata": {
    "dotnet_interactive": {
     "language": "csharp"
    },
    "polyglot_notebook": {
     "kernelName": "csharp"
    }
   },
   "outputs": [],
   "source": [
    "public class ContaCorrente{\n",
    "    public DateTime DataAbertura{\n",
    "        get {\n",
    "            return this.value;\n",
    "        };\n",
    "        set {\n",
    "            this.value = value;\n",
    "        }\n",
    "    }\n",
    "\n",
    "    public string GetDataAbertura(){\n",
    "        return this._dataAbertura;\n",
    "    }\n",
    "    \n",
    "    public void SetDataAbertura(DateTime value){\n",
    "        return this._dataAbertura;\n",
    "    }\n",
    "}\n",
    "\n",
    "var conta = new ContaCorrente();\n",
    "var dataAbertura = conta.DataAbertura;\n",
    "conta.DataAbertura = DateTime.Now();"
   ]
  }
 ],
 "metadata": {
  "kernelspec": {
   "display_name": ".NET (C#)",
   "language": "C#",
   "name": ".net-csharp"
  },
  "polyglot_notebook": {
   "kernelInfo": {
    "defaultKernelName": "csharp",
    "items": [
     {
      "aliases": [],
      "languageName": "csharp",
      "name": "csharp"
     }
    ]
   }
  }
 },
 "nbformat": 4,
 "nbformat_minor": 2
}
